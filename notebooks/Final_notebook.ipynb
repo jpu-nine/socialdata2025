{
 "cells": [
  {
   "cell_type": "markdown",
   "id": "0c3560d3",
   "metadata": {},
   "source": [
    "# 1. Motivation\n",
    "For this project, we chose to work with the Global Terrorism Database (GTD) — one of the most comprehensive open-source datasets on terrorist activity worldwide. It contains detailed information on more than 200,000 terrorist incidents from 1970 to 2020, including data on the type of attack, location, casualties, weapons, perpetrators, and other critical attributes.\n",
    "\n",
    "We selected this dataset for two reasons: first, terrorism is a topic with deep geopolitical, social, and humanitarian impact, and visualizing its trends helps build understanding of global and regional conflict dynamics. Second, the richness of the GTD makes it suitable for diverse forms of analysis and storytelling, including both quantitative trends and human-centered consequences.\n",
    "\n",
    "Our goal was to design a visually-driven experience that allows users to:\n",
    "- Observe temporal and regional trends in terrorism,\n",
    "- Understand the tactics and impact of attacks over time,\n",
    "- Explore connections between perpetrators, weapons, and victims.\n",
    "\n",
    "We divided the project into three complementary perspectives:\n",
    "1. Incident and Attack (structure, type, and evolution of events)\n",
    "2. Victims and Consequences (casualties and human cost)\n",
    "3. Weapons and Perpetrators (means and motives of terrorism)\n",
    "\n",
    "# 2. Basic stats \n",
    "Let's understand the dataset better\n",
    "Write about your choices in data cleaning and preprocessing\n",
    "Write a short section that discusses the dataset stats, containing key points/plots from your exploratory data analysis.\n",
    "\n",
    "The original dataset we used was provided as an Excel (.xlsx) file, which we converted to CSV format to make it easier to load and process using Python. The full dataset consists of over 200,000 rows and more than 120 columns, offering extensive metadata for each recorded terrorist incident from 1970 to 2019.\n",
    "\n",
    "However, not all of that information was relevant for our project goals. We focused on understanding and visualizing trends in attacks, their impact, and the actors involved. Therefore, we performed a cleaning and selection process to streamline the data:\n",
    "- We removed columns that were either irrelevant to our analysis or had a high proportion of missing values.\n",
    "- The final selection of columns used across most of our analyses was:<span style=\"color:red\">Missing values ['iyear', 'iday', 'imonth', 'country', 'country_txt', 'region', 'region_txt',\n",
    " 'city', 'latitude', 'longitude', 'success', 'suicide', 'attacktype1', 'attacktype1_txt']</span>\n",
    "- For each specific line of inquiry (incidents, consequences, or weapons), we made sure to filter out entries that lacked the required data for that part of the analysis — for example, skipping rows without weapon information in the attacks section. Despite this filtering, the vast majority of entries were usable, and we were able to retain the core of the dataset for robust statistical exploration.\n",
    "\n",
    "To get a better sense of the overall structure of the dataset—spanning over 200,000 terrorist incidents from 1970 to 2019—we began with general visualizations.\n",
    "\n",
    "The calendar map provided a clear overview of how attack frequency evolved over time, revealing periods of escalation and decline. Another useful visualization showed the number of attacks per terrorist group each year, helping us identify when major groups were most active.\n",
    "\n",
    "These high-level plots helped us understand the dataset’s scale, structure, and dynamics before diving into more specific analyses."
   ]
  }
 ],
 "metadata": {
  "language_info": {
   "name": "python"
  }
 },
 "nbformat": 4,
 "nbformat_minor": 5
}
