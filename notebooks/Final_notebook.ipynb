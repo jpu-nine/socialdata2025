{
 "cells": [
  {
   "cell_type": "markdown",
   "id": "0c3560d3",
   "metadata": {
    "jp-MarkdownHeadingCollapsed": true
   },
   "source": [
    "# 1. Motivation\n",
    "For this project, we chose to work with the Global Terrorism Database (GTD) — one of the most comprehensive open-source datasets on terrorist activity worldwide. It contains detailed information on more than 200,000 terrorist incidents from 1970 to 2020, including data on the type of attack, location, casualties, weapons, perpetrators, and other critical attributes.\n",
    "\n",
    "We selected this dataset for two reasons: first, terrorism is a topic with deep geopolitical, social, and humanitarian impact, and visualizing its trends helps build understanding of global and regional conflict dynamics. Second, the richness of the GTD makes it suitable for diverse forms of analysis and storytelling, including both quantitative trends and human-centered consequences.\n",
    "\n",
    "Our goal was to design a visually-driven experience that allows users to:\n",
    "- Observe temporal and regional trends in terrorism,\n",
    "- Understand the tactics and impact of attacks over time,\n",
    "- Explore connections between perpetrators, weapons, and victims.\n",
    "\n",
    "We divided the project into three complementary perspectives:\n",
    "1. Incident and Attack (structure, type, and evolution of events)\n",
    "2. Victims and Consequences (casualties and human cost)\n",
    "3. Weapons and Perpetrators (means and motives of terrorism)\n",
    "\n",
    "# 2. Basic stats \n",
    "Let's understand the dataset better\n",
    "Write about your choices in data cleaning and preprocessing\n",
    "Write a short section that discusses the dataset stats, containing key points/plots from your exploratory data analysis.\n",
    "\n",
    "The original dataset we used was provided as an Excel (.xlsx) file, which we converted to CSV format to make it easier to load and process using Python. The full dataset consists of over 200,000 rows and more than 120 columns, offering extensive metadata for each recorded terrorist incident from 1970 to 2019.\n",
    "\n",
    "However, not all of that information was relevant for our project goals. We focused on understanding and visualizing trends in attacks, their impact, and the actors involved. Therefore, we performed a cleaning and selection process to streamline the data:\n",
    "- We removed columns that were either irrelevant to our analysis or had a high proportion of missing values.\n",
    "- The final selection of columns used across most of our analyses was:<span style=\"color:red\">Missing values ['iyear', 'iday', 'imonth', 'country', 'country_txt', 'region', 'region_txt',\n",
    " 'city', 'latitude', 'longitude', 'success', 'suicide', 'attacktype1', 'attacktype1_txt', 'targtype1', 'targsubtype1', 'nwound', 'natlty1', 'nkill']</span>\n",
    "- For each specific line of inquiry (incidents, consequences, or weapons), we made sure to filter out entries that lacked the required data for that part of the analysis — for example, skipping rows without weapon information in the attacks section. Despite this filtering, the vast majority of entries were usable, and we were able to retain the core of the dataset for robust statistical exploration.\n",
    "\n",
    "To get a better sense of the overall structure of the dataset—spanning over 200,000 terrorist incidents from 1970 to 2019—we began with general visualizations.\n",
    "\n",
    "The calendar map provided a clear overview of how attack frequency evolved over time, revealing periods of escalation and decline. Another useful visualization showed the number of attacks per terrorist group each year, helping us identify when major groups were most active.\n",
    "\n",
    "These high-level plots helped us understand the dataset’s scale, structure, and dynamics before diving into more specific analyses."
   ]
  },
  {
   "cell_type": "markdown",
   "id": "893032bc-2228-4b28-9e55-533d4b2d39ec",
   "metadata": {},
   "source": [
    "# 3. Data Analysis\n",
    "\n",
    "Here goes our graphs etc from our individual notebooks."
   ]
  },
  {
   "cell_type": "markdown",
   "id": "81fc87e8-961a-4b72-8286-b6b3e23e2ecc",
   "metadata": {},
   "source": [
    "# 4. Genre\n",
    "\n",
    "## Genre of Data Story Used\n",
    "- We used the “visualized article genre”, because it allows readers to explore interactive visualizations while still following a guided narrative structure.\n",
    "- The story is divided into clear thematic sections - like “Incident + Attack,” “Victim + Casualties and Consequences,” and “Weapon + Perpetrator” - which helps convey different angles of the dataset in an organized way.\n",
    "- The layout is scrollable and embedded on a website, making it easy for users to navigate and interact with each section on their own terms.\n",
    "\n",
    "## Tools from the 3 Categories of Visual Narrative\n",
    "**Visual Structure:**\n",
    "- We used a consistent visual layout across all sections. Each chapter follows the same design pattern, which helps users stay oriented. The use of section titles (like “Victim + Casualties”) acts as soft annotations that guide interpretation without overwhelming the visuals.\n",
    "\n",
    "**Interactivity:**\n",
    "- We implemented interactive tools like heatmaps and dynamic charts that users can click or hover over. These features let users filter or explore the data by region and time, which supports a more exploratory and personal experience. It gives them control over what aspect of the data they want to focus on.\n",
    "\n",
    "**Messaging:**\n",
    "- Rather than drawing explicit conclusions, we tried to let the visuals speak for themselves. The headings introduce the topic of each section, but we avoided writing strong takeaways. This way, the narrative stays open-ended and encourages viewers to form their own interpretations.\n",
    "\n",
    "## Tools from the 3 Categories of Narrative Structure\n",
    "**Ordering:**\n",
    "- The story follows a linear structure, starting with the incidents, then moving to the consequences, and ending with the actors involved (weapons and perpetrators). This order was chosen to mimic how a reader might naturally want to understand the lifecycle of an event - from what happened to who was affected and who was responsible.\n",
    "\n",
    "**Interactivity/Control:**\n",
    "- Since the project is web-based, users have the freedom to scroll at their own pace and interact with whichever visuals they find most interesting. This gives them some control over how they engage with the story, which was important for us.\n",
    "\n",
    "**Messaging Emphasis:**\n",
    "- We would say the balance is somewhere between reader-driven and author-driven. We provide structure through section titles and ordering, but left out heavy-handed conclusions or commentary. The goal was to guide the reader without restricting their exploration."
   ]
  },
  {
   "cell_type": "markdown",
   "id": "6497d427-05fc-4bef-a8a3-811eadf6a7dc",
   "metadata": {},
   "source": [
    "# 5. Visualizations\n",
    "\n",
    "For our data story, we chose a set of interactive visualizations that each highlight a specific aspect of terrorism data. Specifically, we included a heatmap for the geographic distribution of attacks over time, bar and line charts to show trends in casualties and victim types, and categorical breakdowns for weapons and perpetrators.\n",
    "\n",
    "These visualizations are well-suited to the story we want to tell because they each answer a different set of questions that a viewer might naturally have. The heatmap gives a powerful overview of where attacks are happening and how that changes over time, which sets the stage for understanding the global scope of the issue. The casualty and victim charts help the reader understand the impact of these attacks, both in terms of scale and human consequences. Finally, the weapon and perpetrator visuals give insight into the how and who behind the events, completing the narrative loop from incident to consequence to actor.\n",
    "\n",
    "We chose these formats because they strike a balance between clarity and depth. They make patterns in the data more accessible without oversimplifying, and they allow viewers to explore further if they’re interested. Each visualization supports a specific chapter of the story and helps build a fuller understanding of the data.\n"
   ]
  },
  {
   "cell_type": "markdown",
   "id": "ad38cdfa-4859-42ec-a99c-77839483f6e5",
   "metadata": {},
   "source": [
    "# 6. Discussion"
   ]
  },
  {
   "cell_type": "markdown",
   "id": "7670e585-1204-4369-a3d8-649fe9b66ff0",
   "metadata": {},
   "source": [
    "# 7. Contributions\n",
    "\n",
    "## Notebook\n",
    "\n",
    "| Contribution | Student name | Student id |\n",
    "| -------- | ------- | ------- |\n",
    "| 1. Motivation | Manuel Ibanez Andujar | 232783 |\n",
    "| 2. Basic stats | Manuel Ibanez Andujar | 232783 |\n",
    "| 3. Data Analysis | Everyone | Everyone |\n",
    "| 4. Genre | Jonas Puidokas | 137282 |\n",
    "| 5. Visualizations | Jonas Puidokas | 137282 |\n",
    "| 6. Discussion | Charalampos Stathopoulos | 243183 |\n",
    "| 7. Contributions | Jonas Puidokas | 137282 |\n",
    "\n",
    "## Website\n",
    "\n",
    "| Contribution | Student name | Student id |\n",
    "| -------- | ------- | ------- |\n",
    "| Website setup | Jonas Puidokas | 137282 |\n",
    "| Introduction | Manuel Ibanez Andujar | 232783 |\n",
    "| Incident + attack | Manuel Ibanez Andujar | 232783 |\n",
    "| Victim + casualties and consequences | Charalampos Stathopoulos | 243183 |\n",
    "| Weapon + perpetrator | Jonas Puidokas | 137282 |\n",
    "| Conclusion | Charalampos Stathopoulos | 243183 |"
   ]
  }
 ],
 "metadata": {
  "kernelspec": {
   "display_name": "Python 3 (ipykernel)",
   "language": "python",
   "name": "python3"
  },
  "language_info": {
   "codemirror_mode": {
    "name": "ipython",
    "version": 3
   },
   "file_extension": ".py",
   "mimetype": "text/x-python",
   "name": "python",
   "nbconvert_exporter": "python",
   "pygments_lexer": "ipython3",
   "version": "3.12.5"
  }
 },
 "nbformat": 4,
 "nbformat_minor": 5
}
